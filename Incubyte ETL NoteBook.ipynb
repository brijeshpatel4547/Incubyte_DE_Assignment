{
 "cells": [
  {
   "cell_type": "code",
   "execution_count": 0,
   "metadata": {
    "application/vnd.databricks.v1+cell": {
     "cellMetadata": {
      "byteLimit": 2048000,
      "rowLimit": 10000
     },
     "inputWidgets": {},
     "nuid": "6497db67-7aee-4918-a893-6ebdc3cf30c3",
     "showTitle": true,
     "title": "Connecting ADLS and Databricks"
    }
   },
   "outputs": [
    {
     "output_type": "execute_result",
     "data": {
      "text/plain": [
       "True"
      ]
     },
     "execution_count": 17,
     "metadata": {},
     "output_type": "execute_result"
    }
   ],
   "source": [
    "configs = {\"fs.azure.account.auth.type\": \"OAuth\",\n",
    "\"fs.azure.account.oauth.provider.type\": \"org.apache.hadoop.fs.azurebfs.oauth2.ClientCredsTokenProvider\",\n",
    "\"fs.azure.account.oauth2.client.id\": \"1b583470-a522-45f4-b113-c7b764ff0d5d\", #Client ID\n",
    "\"fs.azure.account.oauth2.client.secret\": 'secretkey', #Value of secret key\n",
    "\"fs.azure.account.oauth2.client.endpoint\": \"https://login.microsoftonline.com/b5a2d267-4ba4-4f75-a2c3-19ef56c332b5/oauth2/token\"} #Tenant ID\n",
    "\n",
    "dbutils.fs.mount(\n",
    "source = \"abfss://results@incubytestorage.dfs.core.windows.net\", # contrainer@storageacc\n",
    "mount_point = \"/mnt/results\",\n",
    "extra_configs = configs)"
   ]
  },
  {
   "cell_type": "code",
   "execution_count": 0,
   "metadata": {
    "application/vnd.databricks.v1+cell": {
     "cellMetadata": {
      "byteLimit": 2048000,
      "rowLimit": 10000
     },
     "inputWidgets": {},
     "nuid": "e5171987-9a74-4516-a189-9cd49b8c8f34",
     "showTitle": false,
     "title": ""
    }
   },
   "outputs": [
    {
     "output_type": "display_data",
     "data": {
      "text/html": [
       "<style scoped>\n",
       "  .table-result-container {\n",
       "    max-height: 300px;\n",
       "    overflow: auto;\n",
       "  }\n",
       "  table, th, td {\n",
       "    border: 1px solid black;\n",
       "    border-collapse: collapse;\n",
       "  }\n",
       "  th, td {\n",
       "    padding: 5px;\n",
       "  }\n",
       "  th {\n",
       "    text-align: left;\n",
       "  }\n",
       "</style><div class='table-result-container'><table class='table-result'><thead style='background-color: white'><tr></tr></thead><tbody></tbody></table></div>"
      ]
     },
     "metadata": {
      "application/vnd.databricks.v1+output": {
       "addedWidgets": {},
       "aggData": [],
       "aggError": "",
       "aggOverflow": false,
       "aggSchema": [],
       "aggSeriesLimitReached": false,
       "aggType": "",
       "arguments": {},
       "columnCustomDisplayInfos": {},
       "data": [],
       "datasetInfos": [],
       "dbfsResultPath": null,
       "isJsonSchema": true,
       "metadata": {
        "isDbfsCommandResult": false
       },
       "overflow": false,
       "plotOptions": {
        "customPlotOptions": {},
        "displayType": "table",
        "pivotAggregation": null,
        "pivotColumns": null,
        "xColumns": null,
        "yColumns": null
       },
       "removedWidgets": [],
       "schema": [],
       "type": "table"
      }
     },
     "output_type": "display_data"
    }
   ],
   "source": [
    "%fs\n",
    "ls \"/mnt/results\""
   ]
  },
  {
   "cell_type": "code",
   "execution_count": 0,
   "metadata": {
    "application/vnd.databricks.v1+cell": {
     "cellMetadata": {
      "byteLimit": 2048000,
      "rowLimit": 10000
     },
     "inputWidgets": {},
     "nuid": "1370dd60-73f9-49a0-a45f-2e9e31c57a5c",
     "showTitle": true,
     "title": "Importing Libraries and Session"
    }
   },
   "outputs": [],
   "source": [
    "import pyspark\n",
    "from pyspark.sql import SparkSession\n",
    "from pyspark.sql.functions import *\n",
    "\n",
    "# Create Spark session\n",
    "spark = SparkSession.builder.appName(\"PartitionData\").getOrCreate()"
   ]
  },
  {
   "cell_type": "code",
   "execution_count": 0,
   "metadata": {
    "application/vnd.databricks.v1+cell": {
     "cellMetadata": {
      "byteLimit": 2048000,
      "rowLimit": 10000
     },
     "inputWidgets": {},
     "nuid": "9325550a-7e5f-439d-8525-ec49adbad9a3",
     "showTitle": true,
     "title": "Set Up Connection to PGSQL"
    }
   },
   "outputs": [],
   "source": [
    "# Define the connection parameters\n",
    "jdbcHostname = \"incubyte-pgsql.postgres.database.azure.com\"\n",
    "jdbcPort = 5432\n",
    "jdbcDatabase = \"incubyte\"\n",
    "jdbcUsername = \"postgres\"\n",
    "jdbcPassword = \"pwd\"\n",
    "\n",
    "# Create the JDBC URL\n",
    "jdbcUrl = f\"jdbc:postgresql://{jdbcHostname}:{jdbcPort}/{jdbcDatabase}\"\n",
    "\n",
    "# Set the connection properties\n",
    "connectionProperties = {\n",
    "    \"user\": jdbcUsername,\n",
    "    \"password\": jdbcPassword,\n",
    "    \"driver\": \"org.postgresql.Driver\"\n",
    "}\n",
    "\n",
    "# Read data from PostgreSQL\n",
    "patients_df = spark.read.jdbc(url=jdbcUrl, table=\"public.patients\", properties=connectionProperties)\n",
    "\n",
    "\n"
   ]
  },
  {
   "cell_type": "code",
   "execution_count": 0,
   "metadata": {
    "application/vnd.databricks.v1+cell": {
     "cellMetadata": {
      "byteLimit": 2048000,
      "rowLimit": 10000
     },
     "inputWidgets": {},
     "nuid": "cb9efb14-eeca-4e0b-906c-16a1bfeed3ac",
     "showTitle": true,
     "title": "Transformation"
    }
   },
   "outputs": [],
   "source": [
    "\n",
    "\n",
    "# Import Dat\n",
    "patients_df = patients_df.drop('H')\n",
    "\n",
    "    # Converting Strings to Dates for better Processing\n",
    "patients_df = patients_df.withColumn(\"customer_open_date\", to_date(col(\"customer_open_date\"),\"yyyyMMdd\")) \\\n",
    "            .withColumn(\"last_consulted_date\", to_date(col(\"last_consulted_date\"),\"yyyyMMdd\")) \\\n",
    "            .withColumn(\"dob\", to_date(col(\"dob\"),\"MMddyyyy\"))\n",
    "\n",
    "    # Adding Additional Derivative Columns\n",
    "    # Add Age\n",
    "patients_df = patients_df.withColumn(\"Age\",(datediff(current_date(), col(\"dob\")) / 365.25).cast(\"int\"))\n",
    "\n",
    "    # days since last consulted >30 \n",
    "patients_df = patients_df.withColumn(\"Days_Since_Last_Consulted_>_30\", when((datediff(current_date(),\"last_consulted_date\").cast(\"int\")) >= 30, True).otherwise(False))\n"
   ]
  },
  {
   "cell_type": "code",
   "execution_count": 0,
   "metadata": {
    "application/vnd.databricks.v1+cell": {
     "cellMetadata": {
      "byteLimit": 2048000,
      "rowLimit": 10000
     },
     "inputWidgets": {},
     "nuid": "3bfe3608-6392-4fb8-9200-f4fd5edc1dac",
     "showTitle": true,
     "title": "Viewing Data as Pandas DF"
    }
   },
   "outputs": [
    {
     "output_type": "execute_result",
     "data": {
      "text/html": [
       "<div>\n",
       "<style scoped>\n",
       "    .dataframe tbody tr th:only-of-type {\n",
       "        vertical-align: middle;\n",
       "    }\n",
       "\n",
       "    .dataframe tbody tr th {\n",
       "        vertical-align: top;\n",
       "    }\n",
       "\n",
       "    .dataframe thead th {\n",
       "        text-align: right;\n",
       "    }\n",
       "</style>\n",
       "<table border=\"1\" class=\"dataframe\">\n",
       "  <thead>\n",
       "    <tr style=\"text-align: right;\">\n",
       "      <th></th>\n",
       "      <th>headerrow</th>\n",
       "      <th>customer_name</th>\n",
       "      <th>customer_id</th>\n",
       "      <th>customer_open_date</th>\n",
       "      <th>last_consulted_date</th>\n",
       "      <th>vaccination_type</th>\n",
       "      <th>doctor_consulted</th>\n",
       "      <th>state</th>\n",
       "      <th>country</th>\n",
       "      <th>dob</th>\n",
       "      <th>active_customer</th>\n",
       "      <th>Age</th>\n",
       "      <th>Days_Since_Last_Consulted_&gt;_30</th>\n",
       "    </tr>\n",
       "  </thead>\n",
       "  <tbody>\n",
       "    <tr>\n",
       "      <th>0</th>\n",
       "      <td>D</td>\n",
       "      <td>John</td>\n",
       "      <td>953405</td>\n",
       "      <td>2010-03-12</td>\n",
       "      <td>2015-04-27</td>\n",
       "      <td>MMR</td>\n",
       "      <td>Smith                                         ...</td>\n",
       "      <td>WAS</td>\n",
       "      <td>IND</td>\n",
       "      <td>1977-03-10</td>\n",
       "      <td>A</td>\n",
       "      <td>47</td>\n",
       "      <td>True</td>\n",
       "    </tr>\n",
       "    <tr>\n",
       "      <th>1</th>\n",
       "      <td>D</td>\n",
       "      <td>Emily</td>\n",
       "      <td>449792</td>\n",
       "      <td>2019-01-24</td>\n",
       "      <td>2015-01-31</td>\n",
       "      <td>FLU</td>\n",
       "      <td>Smith                                         ...</td>\n",
       "      <td>WAS</td>\n",
       "      <td>CAN</td>\n",
       "      <td>1987-04-08</td>\n",
       "      <td>A</td>\n",
       "      <td>37</td>\n",
       "      <td>True</td>\n",
       "    </tr>\n",
       "    <tr>\n",
       "      <th>2</th>\n",
       "      <td>D</td>\n",
       "      <td>Matt</td>\n",
       "      <td>763362</td>\n",
       "      <td>2020-01-20</td>\n",
       "      <td>2017-08-01</td>\n",
       "      <td>MMR</td>\n",
       "      <td>John                                          ...</td>\n",
       "      <td>TN</td>\n",
       "      <td>IND</td>\n",
       "      <td>1972-09-29</td>\n",
       "      <td>I</td>\n",
       "      <td>52</td>\n",
       "      <td>True</td>\n",
       "    </tr>\n",
       "    <tr>\n",
       "      <th>3</th>\n",
       "      <td>D</td>\n",
       "      <td>Emily</td>\n",
       "      <td>645853</td>\n",
       "      <td>2010-06-19</td>\n",
       "      <td>2017-12-07</td>\n",
       "      <td>HPT</td>\n",
       "      <td>Smith                                         ...</td>\n",
       "      <td>TN</td>\n",
       "      <td>NYC</td>\n",
       "      <td>1961-01-07</td>\n",
       "      <td>I</td>\n",
       "      <td>63</td>\n",
       "      <td>True</td>\n",
       "    </tr>\n",
       "    <tr>\n",
       "      <th>4</th>\n",
       "      <td>D</td>\n",
       "      <td>John</td>\n",
       "      <td>754585</td>\n",
       "      <td>2019-05-24</td>\n",
       "      <td>2016-03-26</td>\n",
       "      <td>MVD</td>\n",
       "      <td>John                                          ...</td>\n",
       "      <td>VIC</td>\n",
       "      <td>AU</td>\n",
       "      <td>1964-04-19</td>\n",
       "      <td>I</td>\n",
       "      <td>60</td>\n",
       "      <td>True</td>\n",
       "    </tr>\n",
       "  </tbody>\n",
       "</table>\n",
       "</div>"
      ],
      "text/plain": [
       "  headerrow customer_name  ... Age Days_Since_Last_Consulted_>_30\n",
       "0         D          John  ...  47                           True\n",
       "1         D         Emily  ...  37                           True\n",
       "2         D          Matt  ...  52                           True\n",
       "3         D         Emily  ...  63                           True\n",
       "4         D          John  ...  60                           True\n",
       "\n",
       "[5 rows x 13 columns]"
      ]
     },
     "execution_count": 10,
     "metadata": {},
     "output_type": "execute_result"
    }
   ],
   "source": [
    "patients_df.toPandas().head()"
   ]
  },
  {
   "cell_type": "code",
   "execution_count": 0,
   "metadata": {
    "application/vnd.databricks.v1+cell": {
     "cellMetadata": {
      "byteLimit": 2048000,
      "rowLimit": 10000
     },
     "inputWidgets": {},
     "nuid": "e2b4e8ff-0f4b-4d96-8fd1-05400301b09f",
     "showTitle": true,
     "title": "Partitioning Data based on countries"
    }
   },
   "outputs": [],
   "source": [
    "patients_df.write.format(\"csv\").mode(\"overwrite\").partitionBy(\"country\").save(\"/mnt/results/partitionedfiles\")"
   ]
  },
  {
   "cell_type": "code",
   "execution_count": 0,
   "metadata": {
    "application/vnd.databricks.v1+cell": {
     "cellMetadata": {
      "byteLimit": 2048000,
      "rowLimit": 10000
     },
     "inputWidgets": {},
     "nuid": "5d99cd9a-65fd-46b7-ae32-e8317c1364ba",
     "showTitle": false,
     "title": ""
    }
   },
   "outputs": [
    {
     "output_type": "display_data",
     "data": {
      "text/html": [
       "<style scoped>\n",
       "  .table-result-container {\n",
       "    max-height: 300px;\n",
       "    overflow: auto;\n",
       "  }\n",
       "  table, th, td {\n",
       "    border: 1px solid black;\n",
       "    border-collapse: collapse;\n",
       "  }\n",
       "  th, td {\n",
       "    padding: 5px;\n",
       "  }\n",
       "  th {\n",
       "    text-align: left;\n",
       "  }\n",
       "</style><div class='table-result-container'><table class='table-result'><thead style='background-color: white'><tr><th>path</th><th>name</th><th>size</th><th>modificationTime</th></tr></thead><tbody><tr><td>dbfs:/mnt/results/partitionedfiles/_SUCCESS</td><td>_SUCCESS</td><td>0</td><td>1728885654000</td></tr><tr><td>dbfs:/mnt/results/partitionedfiles/country=AU   /</td><td>country=AU   /</td><td>0</td><td>1728885651000</td></tr><tr><td>dbfs:/mnt/results/partitionedfiles/country=CAN  /</td><td>country=CAN  /</td><td>0</td><td>1728885652000</td></tr><tr><td>dbfs:/mnt/results/partitionedfiles/country=FRA  /</td><td>country=FRA  /</td><td>0</td><td>1728885652000</td></tr><tr><td>dbfs:/mnt/results/partitionedfiles/country=GER  /</td><td>country=GER  /</td><td>0</td><td>1728885652000</td></tr><tr><td>dbfs:/mnt/results/partitionedfiles/country=IND  /</td><td>country=IND  /</td><td>0</td><td>1728885652000</td></tr><tr><td>dbfs:/mnt/results/partitionedfiles/country=JPN  /</td><td>country=JPN  /</td><td>0</td><td>1728885653000</td></tr><tr><td>dbfs:/mnt/results/partitionedfiles/country=NYC  /</td><td>country=NYC  /</td><td>0</td><td>1728885653000</td></tr><tr><td>dbfs:/mnt/results/partitionedfiles/country=PHIL /</td><td>country=PHIL /</td><td>0</td><td>1728885653000</td></tr><tr><td>dbfs:/mnt/results/partitionedfiles/country=UK   /</td><td>country=UK   /</td><td>0</td><td>1728885653000</td></tr><tr><td>dbfs:/mnt/results/partitionedfiles/country=USA  /</td><td>country=USA  /</td><td>0</td><td>1728885653000</td></tr></tbody></table></div>"
      ]
     },
     "metadata": {
      "application/vnd.databricks.v1+output": {
       "addedWidgets": {},
       "aggData": [],
       "aggError": "",
       "aggOverflow": false,
       "aggSchema": [],
       "aggSeriesLimitReached": false,
       "aggType": "",
       "arguments": {},
       "columnCustomDisplayInfos": {},
       "data": [
        [
         "dbfs:/mnt/results/partitionedfiles/_SUCCESS",
         "_SUCCESS",
         0,
         1728885654000
        ],
        [
         "dbfs:/mnt/results/partitionedfiles/country=AU   /",
         "country=AU   /",
         0,
         1728885651000
        ],
        [
         "dbfs:/mnt/results/partitionedfiles/country=CAN  /",
         "country=CAN  /",
         0,
         1728885652000
        ],
        [
         "dbfs:/mnt/results/partitionedfiles/country=FRA  /",
         "country=FRA  /",
         0,
         1728885652000
        ],
        [
         "dbfs:/mnt/results/partitionedfiles/country=GER  /",
         "country=GER  /",
         0,
         1728885652000
        ],
        [
         "dbfs:/mnt/results/partitionedfiles/country=IND  /",
         "country=IND  /",
         0,
         1728885652000
        ],
        [
         "dbfs:/mnt/results/partitionedfiles/country=JPN  /",
         "country=JPN  /",
         0,
         1728885653000
        ],
        [
         "dbfs:/mnt/results/partitionedfiles/country=NYC  /",
         "country=NYC  /",
         0,
         1728885653000
        ],
        [
         "dbfs:/mnt/results/partitionedfiles/country=PHIL /",
         "country=PHIL /",
         0,
         1728885653000
        ],
        [
         "dbfs:/mnt/results/partitionedfiles/country=UK   /",
         "country=UK   /",
         0,
         1728885653000
        ],
        [
         "dbfs:/mnt/results/partitionedfiles/country=USA  /",
         "country=USA  /",
         0,
         1728885653000
        ]
       ],
       "datasetInfos": [],
       "dbfsResultPath": null,
       "isJsonSchema": true,
       "metadata": {
        "isDbfsCommandResult": false
       },
       "overflow": false,
       "plotOptions": {
        "customPlotOptions": {},
        "displayType": "table",
        "pivotAggregation": null,
        "pivotColumns": null,
        "xColumns": null,
        "yColumns": null
       },
       "removedWidgets": [],
       "schema": [
        {
         "metadata": "{}",
         "name": "path",
         "type": "\"string\""
        },
        {
         "metadata": "{}",
         "name": "name",
         "type": "\"string\""
        },
        {
         "metadata": "{}",
         "name": "size",
         "type": "\"long\""
        },
        {
         "metadata": "{}",
         "name": "modificationTime",
         "type": "\"long\""
        }
       ],
       "type": "table"
      }
     },
     "output_type": "display_data"
    }
   ],
   "source": [
    "%fs\n",
    "ls \"/mnt/results/partitionedfiles\""
   ]
  }
 ],
 "metadata": {
  "application/vnd.databricks.v1+notebook": {
   "dashboards": [],
   "environmentMetadata": null,
   "language": "python",
   "notebookMetadata": {
    "mostRecentlyExecutedCommandWithImplicitDF": {
     "commandId": 2841456018426307,
     "dataframes": [
      "_sqldf"
     ]
    },
    "pythonIndentUnit": 4
   },
   "notebookName": "Incubyte ETL NoteBook",
   "widgets": {}
  }
 },
 "nbformat": 4,
 "nbformat_minor": 0
}
